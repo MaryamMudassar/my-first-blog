{
  "nbformat": 4,
  "nbformat_minor": 0,
  "metadata": {
    "colab": {
      "provenance": [],
      "collapsed_sections": [],
      "include_colab_link": true
    },
    "kernelspec": {
      "display_name": "Python 3",
      "name": "python3"
    },
    "language_info": {
      "name": "python"
    }
  },
  "cells": [
    {
      "cell_type": "markdown",
      "metadata": {
        "id": "view-in-github",
        "colab_type": "text"
      },
      "source": [
        "<a href=\"https://colab.research.google.com/github/MaryamMudassar/my-first-blog/blob/master/SpinSqueezed.ipynb\" target=\"_parent\"><img src=\"https://colab.research.google.com/assets/colab-badge.svg\" alt=\"Open In Colab\"/></a>"
      ]
    },
    {
      "cell_type": "code",
      "metadata": {
        "id": "ULw6k8r9zruS",
        "colab": {
          "base_uri": "https://localhost:8080/"
        },
        "outputId": "143e15f3-df1b-47ba-eec7-690888b9ac16"
      },
      "source": [
        "from google.colab import drive\n",
        "drive.mount('/content/drive')"
      ],
      "execution_count": null,
      "outputs": [
        {
          "output_type": "stream",
          "name": "stdout",
          "text": [
            "Mounted at /content/drive\n"
          ]
        }
      ]
    },
    {
      "cell_type": "code",
      "metadata": {
        "colab": {
          "base_uri": "https://localhost:8080/"
        },
        "id": "zsjQS2J0txlU",
        "outputId": "31f50797-f7b9-47ff-e08f-3595c08f1548"
      },
      "source": [
        "import numpy as np\n",
        "import math as mt\n",
        "import matplotlib.pyplot as plt\n",
        "from matplotlib import ticker\n",
        "from scipy.sparse import lil_matrix, dok_matrix\n",
        "from scipy import optimize\n",
        "from scipy.linalg import expm, sinm, cosm\n",
        "from sympy.physics.quantum.spin import Rotation\n",
        "from sympy import *\n",
        "from sympy import symbols\n",
        "from sympy.plotting import plot\n",
        "from sympy import pi\n",
        "!pip install qutip\n",
        "from qutip import *\n",
        "from sympy import Trace as tr\n"
      ],
      "execution_count": null,
      "outputs": [
        {
          "output_type": "stream",
          "name": "stdout",
          "text": [
            "Collecting qutip\n",
            "  Downloading qutip-4.6.2-cp37-cp37m-manylinux2010_x86_64.whl (14.6 MB)\n",
            "\u001b[K     |████████████████████████████████| 14.6 MB 4.6 MB/s \n",
            "\u001b[?25hRequirement already satisfied: scipy>=1.0 in /usr/local/lib/python3.7/dist-packages (from qutip) (1.4.1)\n",
            "Requirement already satisfied: packaging in /usr/local/lib/python3.7/dist-packages (from qutip) (21.3)\n",
            "Requirement already satisfied: numpy>=1.16.6 in /usr/local/lib/python3.7/dist-packages (from qutip) (1.19.5)\n",
            "Requirement already satisfied: pyparsing!=3.0.5,>=2.0.2 in /usr/local/lib/python3.7/dist-packages (from packaging->qutip) (3.0.6)\n",
            "Installing collected packages: qutip\n",
            "Successfully installed qutip-4.6.2\n"
          ]
        }
      ]
    },
    {
      "cell_type": "markdown",
      "metadata": {
        "id": "yp2l22Xq1qbg"
      },
      "source": [
        "First,we work with a CSS state and then change the choice of $\\rho_{ele}$ for OAT or for any other state. Note that $\\theta$ and $\\beta$ can be varied and optimized. Firstly, we can initialize variables as follows:"
      ]
    },
    {
      "cell_type": "code",
      "metadata": {
        "id": "kFyu_L8Y1y9r"
      },
      "source": [
        "num = 10; #number of particles,  currently only working accurately for even values of num\n",
        "T = symbols ('T'); #T is wc*t, time taken\n",
        "alpha = 1;  #coefficient of spectral density\n",
        "phi = pi; \n",
        "psi = alpha * ((-2*T / (1 + T**2)**2) + 2*T ); #phase parameter\n",
        "#psi = 2*T-(sin(2*atan(T)))/(2*(1+T**2)); \n",
        "chi = alpha * ((2*T**2*(3 + T**2))/((1 + T**2)**2));#decay parameter\n",
        "#chi = 1 - (cos(2*atan(T)))/(1+T**2);\n",
        "theta = ((24)**(1/6))/((num/2))**(2/3) #represents squeezing angle\n",
        "#theta = 0\n",
        "beta = -((1/3)**(1/3))/(np.sqrt(2)*3**(1/6)) - ((3**(1/6))*((1/3)**(2/3)))/(2*np.sqrt(2)) + 19/(24*np.sqrt(6)*(num/2))+pi/2  #represents rotation about the x axis\n",
        "beta = 0;\n",
        "delta = 0\n",
        "\n",
        "Jx = jmat (int(num/2), 'x').data; #Jy matrix of spin num/2 in |j,m> basis\n",
        "Jx = Jx.toarray()\n",
        "Jy = jmat (int(num/2), 'y').data; #Jy matrix of spin num/2 in |j,m> basis\n",
        "Jy = Jy.toarray()\n",
        "Jz = jmat (int(num/2), 'z').data; #Jy matrix of spin num/2 in |j,m> basis\n",
        "Jz = Jz.toarray()\n",
        "Jpl = Jx+1j*Jy;\n",
        "Jmin = Jx-1j*Jy;\n",
        "\n",
        "\n",
        "th = symbols(\"th\")\n",
        "ph = symbols(\"ph\")\n",
        "\n",
        "\n",
        "\n",
        "\n",
        "\n",
        "\n",
        "\n",
        "\n",
        "\n",
        "\n",
        "\n"
      ],
      "execution_count": null,
      "outputs": []
    },
    {
      "cell_type": "markdown",
      "metadata": {
        "id": "LETP3LhACmO7"
      },
      "source": [
        "Next, we find the density matrix at time t. Note that $\\rho(t)$ depends on the choice of the initial state. Taking $\\beta=\\theta=0$ gives us the CSS state."
      ]
    },
    {
      "cell_type": "code",
      "metadata": {
        "id": "Cy3YzPatA8es"
      },
      "source": [
        "rho = Rho_0_OAT(num,beta,theta);\n",
        "#rho = np.matmul(expm(-1j*np.pi/2*Jx),rho);\n",
        "rho = Time_Evolve(num ,rho, phi,psi,chi)\n",
        "#rho = np.matmul(expm(1j*np.pi/2*Jx),rho);\n",
        "partialrho = Partial_Rho(num, rho)\n",
        "\n",
        "\n",
        "\n",
        "Jn = cos(ph)*sin(th)*Jx + sin(ph)*sin(th)*Jy + cos(th)*Jz\n",
        "\n",
        "Jnsquared = np.matmul(Jn,Jn); \n",
        "Jnexpec = np.trace(np.matmul(rho,Jn)); \n",
        "Jnsquaredexpec = np.trace(np.matmul(Jnsquared,rho));\n",
        "varJn = Jnsquaredexpec - Jnexpec**2; \n",
        "\n",
        "partialJ = np.trace(np.matmul(partialrho , Jn)); \n",
        "partialJ = partialJ/sqrt(T)\n",
        "delb= sqrt(varJn)/abs(partialJ);\n",
        "    "
      ],
      "execution_count": null,
      "outputs": []
    },
    {
      "cell_type": "markdown",
      "metadata": {
        "id": "lx4H15W0HZth"
      },
      "source": [
        "Converting symbolic expression to a function of $T=\\omega_c t$"
      ]
    },
    {
      "cell_type": "code",
      "metadata": {
        "id": "Vg8PtBFiIXEr"
      },
      "source": [
        "#cell for exact computations \n",
        "Jyexpecexact = (num/2)*exp(-chi/2)*sin(phi)*cos(psi)**(num-1);\n",
        "JyexpecexactOAT = (num/2)*exp(-chi/2)*sin(phi)*cos(psi + theta/2)**(num-1);\n",
        "Jysquaredexpecexact = (num/8)*(num+1 - (num-1)*exp(-2*chi)*cos(2*phi)*(cos(2*psi)**(num-2)))\n",
        "JysquaredexpecexactOAT = (num/8)*(num+1 - (num-1)*exp(-2*chi)*cos(2*phi)*(cos(2*psi + theta)**(num-2)))\n",
        "partialJexact = exp(-chi/2)*(cos(psi))**(num-1)*cos(phi)*(num*T/2)\n",
        "partialJexactOAT = exp(-chi/2)*(cos(psi + theta/2))**(num-1)*cos(phi)*(num*T/2)\n",
        "delbexact = sqrt(sqrt(T)*Jysquaredexpecexact)/(abs(partialJexact)/sqrt(T))\n",
        "delbexactOAT = sqrt(sqrt(T)*JysquaredexpecexactOAT)/abs(partialJexactOAT)\n",
        "delbexactGHZ = sqrt(exp(8*chi)/(16*T)) \n",
        "JzJplexact = (cos(psi)**(num-1)+1j*(num-1)*cos(psi)**(num-2)*sin(psi))*exp(1j*phi)*exp(-chi/2)*(num/4);"
      ],
      "execution_count": null,
      "outputs": []
    },
    {
      "cell_type": "markdown",
      "metadata": {
        "id": "XwSpbmVifiWR"
      },
      "source": [
        "Plotting the results here "
      ]
    },
    {
      "cell_type": "code",
      "metadata": {
        "id": "-xa2Z0j5Qn5A"
      },
      "source": [
        "#Contour plot data by take topt points from an external code file and writing the results to datafile which are then plotted to mathematica\n",
        "\n",
        "expr = lambdify([th,ph,T],delb)\n",
        "file1 = open('/content/drive/MyDrive/Colab Notebooks/dataFile.txt','w')\n",
        "toptdat = np.loadtxt('/content/drive/MyDrive/Colab Notebooks/out2.tsv',dtype=float)\n",
        "\n",
        "th1 = np.linspace(0.01,np.pi-0.01,60)\n",
        "ph1 = np.linspace(0.01,np.pi-0.01,60)\n",
        "pt_th = len(th1)\n",
        "pt_ph = len(ph1)\n",
        "express = zeros(pt_th,pt_ph)\n",
        "\n",
        "for i in range(pt_th):\n",
        "  for j in range(pt_ph):\n",
        "    express[i,j] = expr(th1[i],ph1[j],toptdat[i,j])\n",
        "    file1.write(str(th1[i]))\n",
        "    file1.write(\"\\t\")\n",
        "    file1.write(str(ph1[j]))\n",
        "    file1.write(\"\\t\")\n",
        "    file1.write(str(express[i,j]))\n",
        "    file1.write(\"\\t\")\n",
        "    file1.write(str(toptdat[i,j]))\n",
        "    file1.write(\"\\n\")\n",
        "file1.close()\n",
        "\n",
        "\n"
      ],
      "execution_count": null,
      "outputs": []
    },
    {
      "cell_type": "code",
      "metadata": {
        "colab": {
          "base_uri": "https://localhost:8080/"
        },
        "id": "GNBBHcaRW6Ph",
        "outputId": "aee513ff-c24c-4a69-9af0-796ee9f1020b"
      },
      "source": [
        "expr(0.1,0.1,0.1)"
      ],
      "execution_count": null,
      "outputs": [
        {
          "output_type": "execute_result",
          "data": {
            "text/plain": [
              "(102.83896681074049+5.5097392168497745e-17j)"
            ]
          },
          "metadata": {},
          "execution_count": 33
        }
      ]
    },
    {
      "cell_type": "code",
      "metadata": {
        "id": "4PrN84tNRrM1",
        "colab": {
          "base_uri": "https://localhost:8080/",
          "height": 360
        },
        "outputId": "06a7b854-ac82-403a-8113-42ae80e13dfd"
      },
      "source": [
        "#Time plot\n",
        "\n",
        "expr = lambdify(T,delb)\n",
        "\n",
        "time =0.2;\n",
        "incr = 0.01;\n",
        "samples = int(time/incr) ;\n",
        "\n",
        "x = np.linspace(0 , time , samples)\n",
        "f1 = plt.plot(x, expr(x),'-')\n",
        "#plt.yscale(\"log\")\n",
        "\n",
        "\n",
        "plt.xlabel(\"$\\omega_c t$\",fontsize = 15)\n",
        "plt.ylabel(\"$\\Delta b\\sqrt{T} (\\omega_c^{1/2})$\",fontsize = 15)\n",
        "#plt.ylabel(r\"$\\langle J_y^2 \\rangle }$\",fontsize = 20)\n",
        "plt.legend([\"OAT\",\"OAT with untwisting, $\\delta =0$\"])\n",
        "plt.title(r\"OAT plot for $\\alpha=1$ , s=3, N=20 for Kitagawa Ueda parameters\",fontsize = 15)\n",
        "plt.show(f1)\n",
        "\n",
        "\n",
        "\n",
        "\n",
        "\n",
        "\n"
      ],
      "execution_count": null,
      "outputs": [
        {
          "output_type": "stream",
          "name": "stderr",
          "text": [
            "<string>:2: RuntimeWarning: invalid value encountered in true_divide\n",
            "/usr/local/lib/python3.7/dist-packages/numpy/core/_asarray.py:83: ComplexWarning: Casting complex values to real discards the imaginary part\n",
            "  return array(a, dtype, copy=False, order=order)\n"
          ]
        },
        {
          "output_type": "display_data",
          "data": {
            "image/png": "[encoded data removed]",
            "text/plain": [
              "<Figure size 432x288 with 1 Axes>"
            ]
          },
          "metadata": {
            "needs_background": "light"
          }
        }
      ]
    },
    {
      "cell_type": "markdown",
      "metadata": {
        "id": "eFA_BmBQHSH6"
      },
      "source": []
    },
    {
      "cell_type": "code",
      "metadata": {
        "id": "gopngHXTwZti"
      },
      "source": [
        "#Wigner rotation matrix\n",
        "def myRotationd(j,m1,m2,beta):\n",
        "  out = 0\n",
        "  t1 = sqrt(mt.factorial(j+m1)*mt.factorial(j-m1)*mt.factorial(j+m2)*mt.factorial(j-m2))\n",
        "  t2 = 0;\n",
        "  smin = np.maximum(0,m2-m1)\n",
        "  smax = np.minimum(j-m1,j+m2)\n",
        "  for s in np.linspace(smin,smax,smax-smin+1,endpoint='True'):\n",
        "    numer = ((-1)**(m1-m2+s))*(mt.cos(beta/2))**(2*j+m2-m1-2*s)*(mt.sin(beta/2))**(m1-m2+2*s)\n",
        "    denom = mt.factorial(j+m2-s)*mt.factorial(s)*mt.factorial(m1-m2+s)*mt.factorial(j-m1-s)\n",
        "    t2 = t2 + numer/denom\n",
        "  out = t1*t2\n",
        "  return out\n",
        "\n",
        "\n",
        "\n",
        "                                                    \n",
        "\n",
        "\n",
        "\n",
        "\n",
        "\n",
        "\n",
        "\n"
      ],
      "execution_count": null,
      "outputs": []
    },
    {
      "cell_type": "code",
      "metadata": {
        "id": "kRb5N6vIQ9ak"
      },
      "source": [
        "def Rho_0_OAT(num , beta , theta):\n",
        "\n",
        "  # for beta and theta going to zero, this gives back the CSS state\n",
        "\n",
        "  R1 = zeros(num + 1,num + 1)\n",
        "  R2 = zeros(num + 1,num + 1)\n",
        "  V1 = zeros(num + 1, 1)\n",
        "  V2 = zeros(num + 1, 1)\n",
        "\n",
        "\n",
        "  for M1 in np.linspace(-num/2 , num/2 , num+1):\n",
        "\n",
        "    for M3 in np.linspace(-num/2, num/2 , num+1):\n",
        "\n",
        "      M1 = int(M1)\n",
        "      M3 = int(M3)\n",
        "\n",
        "      R1[M1 + int(num/2), M3 + int(num/2)] = myRotationd(int(num/2), -M1, -M3, beta) * exp(1j * pi/2 * (-M1+M3) - 1j * theta/2 * M3**2 )\n",
        "\n",
        "      V1[M3 + int(num/2), 0] = myRotationd(int(num/2) , -M3, int(num/2) , pi/2)\n",
        "\n",
        "      R2[M1 + int(num/2),M3 + int(num/2)] = myRotationd(int(num/2) , -M3 , -M1, -beta) * exp(-1j * pi/2 * (-M1+M3) + 1j * theta/2 * M3**2 )\n",
        "\n",
        "      V2[M3 + int(num/2), 0] = myRotationd(int(num/2), int(num/2), -M3 , -pi/2)\n",
        "\n",
        "  rho1 = R1 * V1  \n",
        "  rho2 = R2 * V2\n",
        "  \n",
        "\n",
        "  rho = rho1 * rho2.transpose()\n",
        "\n",
        "  return rho\n",
        "\n"
      ],
      "execution_count": null,
      "outputs": []
    },
    {
      "cell_type": "code",
      "metadata": {
        "id": "fKbP2CAjbWwm"
      },
      "source": [
        "def Rho_0_CSS(num):\n",
        "\n",
        "  R1 = zeros(num + 1 , 1)\n",
        "  R2 = zeros(num + 1 , 1)\n",
        "\n",
        "  for M1 in np.linspace(num/2 , -num/2 , num+1):\n",
        "\n",
        "    M1 = int(M1)\n",
        "\n",
        "    R1[ M1 + int(num/2), 0 ]= myRotationd(int(num/2) , -M1 , int(num/2) , pi/2)\n",
        "\n",
        "    R2[ M1 + int(num/2), 0 ] = myRotationd(int(num/2) , int(num/2) , -M1, -pi/2)\n",
        "\n",
        "  return R1 * R2.transpose()"
      ],
      "execution_count": null,
      "outputs": []
    },
    {
      "cell_type": "code",
      "metadata": {
        "id": "mXIXN3TpV52e"
      },
      "source": [
        "def Time_Evolve(num, rho, phi , psi , chi):\n",
        "\n",
        "  E = zeros(num + 1, num + 1)\n",
        "\n",
        "  for M1 in np.linspace(num/2,-num/2,num + 1):\n",
        "\n",
        "    for M2 in np.linspace(num/2, -num/2, num + 1):\n",
        "\n",
        "      M1 = int(M1)\n",
        "      M2 = int(M2)\n",
        "\n",
        "      E[M1 + int(num/2),M2 + int(num/2)] = exp(-1j * phi * (M1 - M2) -1j * psi * (M1**2 - M2**2) - chi/2 * (M1 - M2)**2) * rho[M1+ int(num/2),M2+int(num/2)]\n",
        "\n",
        "  return E\n",
        "\n",
        "\n",
        "\n"
      ],
      "execution_count": null,
      "outputs": []
    },
    {
      "cell_type": "code",
      "metadata": {
        "id": "DQ3LQjeCswbQ"
      },
      "source": [
        "def Partial_Rho(num, rho):\n",
        "\n",
        "  partial_rho = zeros(num+1 , num + 1)\n",
        "\n",
        "  for M1 in np.linspace(num/2 , -num/2 , num + 1):\n",
        "\n",
        "    for M2 in np.linspace(num/2 , -num/2 , num + 1):\n",
        "\n",
        "      M1 = int(M1)\n",
        "      M2 = int(M2)\n",
        "\n",
        "      partial_rho[M1+int(num/2),M2+int(num/2)] = -1j * T* (-M1 + M2) * rho[ M1 + int(num/2) , M2 +int(num/2) ]\n",
        "\n",
        "  return partial_rho\n",
        "      \n",
        "\n",
        "\n"
      ],
      "execution_count": null,
      "outputs": []
    },
    {
      "cell_type": "code",
      "metadata": {
        "id": "17lzvH4-yAJz"
      },
      "source": [
        "def Rho_Countertwist(num, rho, alpha, theta):\n",
        "\n",
        "  rho_twisted = zeros(num+1 , num+1)\n",
        " \n",
        "\n",
        "  for M1 in np.linspace(num/2 , -num/2 , num + 1):\n",
        "\n",
        "    for M2 in np.linspace(num/2 , -num/2 , num + 1):\n",
        "\n",
        "      M1 = int(M1)\n",
        "      M2 = int(M2)\n",
        "    \n",
        "      rho_twisted[M1 + int(num/2),M2 + int(num/2)] = exp(-1j * (-M1**2+M2**2)*(alpha - theta)*0.5)*rho[M1 + int(num/2),M2 + int(num/2)]\n",
        "      \n",
        "\n",
        "  return rho_twisted\n"
      ],
      "execution_count": null,
      "outputs": []
    },
    {
      "cell_type": "code",
      "metadata": {
        "id": "ZI0oO5k53w4N"
      },
      "source": [
        "def Pre_Measurement(num, rho, ang):\n",
        "\n",
        "  RhoMeas = zeros(num + 1, num + 1)\n",
        "\n",
        "  for M1 in np.linspace(num/2 , -num/2 , num + 1):\n",
        "\n",
        "    for M2 in np.linspace(num/2 , -num/2 , num + 1):\n",
        "\n",
        "        M1 = int(M1)\n",
        "        M2 = int(M2)\n",
        "\n",
        "        #RhoMeas[M1, M2] = rho[M1,M2] * Rotation.d(int(num/2),M1,M2,th).doit() * exp( -1j* ph *(M1-M2) )* exp( 1j * pi/2 * (M1-M2)) \n",
        "        RhoMeas[M1+int(num/2), M2+int(num/2)] = rho[M1+int(num/2),M2+int(num/2)] * exp( 1j * ang * (M1-M2)) \n",
        "\n",
        "  return RhoMeas"
      ],
      "execution_count": null,
      "outputs": []
    },
    {
      "cell_type": "code",
      "metadata": {
        "id": "PXwUhU23X4K7",
        "colab": {
          "base_uri": "https://localhost:8080/"
        },
        "outputId": "380925c8-32bf-49a5-9bf3-31d0cb2ead82"
      },
      "source": [
        "x = symbols('x')\n",
        "y = symbols('y')\n",
        "s= x +y**2\n",
        "l=s.subs(x,2)\n",
        "t=lambdify(y,l)\n",
        "optimize.minimize_scalar(t)\n",
        "\n"
      ],
      "execution_count": null,
      "outputs": [
        {
          "output_type": "execute_result",
          "data": {
            "text/plain": [
              "     fun: 2.0\n",
              "    nfev: 41\n",
              "     nit: 37\n",
              " success: True\n",
              "       x: 3.195989188427313e-11"
            ]
          },
          "metadata": {},
          "execution_count": 12
        }
      ]
    },
    {
      "cell_type": "code",
      "metadata": {
        "id": "7yjAmHjpowpI",
        "colab": {
          "base_uri": "https://localhost:8080/"
        },
        "outputId": "35d6bd4c-94af-45bd-b5c3-32ae154f9b87"
      },
      "source": [
        "a = np.loadtxt(\"/content/drive/MyDrive/Colab Notebooks/topt.txt\",dtype=float)\n",
        "np.linspace(np.pi/10,9*np.pi/10,17)\n"
      ],
      "execution_count": null,
      "outputs": [
        {
          "output_type": "execute_result",
          "data": {
            "text/plain": [
              "17"
            ]
          },
          "metadata": {},
          "execution_count": 32
        }
      ]
    }
  ]
}